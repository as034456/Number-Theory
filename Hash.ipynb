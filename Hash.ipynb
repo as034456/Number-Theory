{
 "cells": [
  {
   "cell_type": "code",
   "execution_count": 2,
   "id": "719c2a74",
   "metadata": {},
   "outputs": [
    {
     "name": "stdout",
     "output_type": "stream",
     "text": [
      "Original Hash: a27b05f9083dc8c2ff527ad56ef0bace46194414806b21b9149ab6fce04aa68e\n",
      "Received Hash: a27b05f9083dc8c2ff527ad56ef0bace46194414806b21b9149ab6fce04aa68e\n",
      "Data integrity verified: the data has not been altered.\n"
     ]
    }
   ],
   "source": [
    "import hashlib\n",
    "\n",
    "# Function to calculate SHA-256 hash of data\n",
    "def calculate_hash(data):\n",
    "    sha256_hash = hashlib.sha256()\n",
    "    sha256_hash.update(data.encode('utf-8'))\n",
    "    return sha256_hash.hexdigest()\n",
    "\n",
    "# Original data\n",
    "original_data = \"Number theory project.\"\n",
    "\n",
    "# Calculate the hash of the original data\n",
    "original_hash = calculate_hash(original_data)\n",
    "print(f\"Original Hash: {original_hash}\")\n",
    "\n",
    "# Simulate data transmission (we'll just reassign the data to a new variable here)\n",
    "transmitted_data = original_data\n",
    "\n",
    "# Calculate the hash of the received data\n",
    "received_hash = calculate_hash(transmitted_data)\n",
    "print(f\"Received Hash: {received_hash}\")\n",
    "\n",
    "# Verify integrity by comparing the hashes\n",
    "if original_hash == received_hash:\n",
    "    print(\"Data integrity verified: the data has not been altered.\")\n",
    "else:\n",
    "    print(\"Data integrity verification failed: the data has been altered.\")\n"
   ]
  },
  {
   "cell_type": "code",
   "execution_count": null,
   "id": "c35adbd0",
   "metadata": {},
   "outputs": [],
   "source": []
  }
 ],
 "metadata": {
  "kernelspec": {
   "display_name": "Python 3 (ipykernel)",
   "language": "python",
   "name": "python3"
  },
  "language_info": {
   "codemirror_mode": {
    "name": "ipython",
    "version": 3
   },
   "file_extension": ".py",
   "mimetype": "text/x-python",
   "name": "python",
   "nbconvert_exporter": "python",
   "pygments_lexer": "ipython3",
   "version": "3.9.7"
  }
 },
 "nbformat": 4,
 "nbformat_minor": 5
}
